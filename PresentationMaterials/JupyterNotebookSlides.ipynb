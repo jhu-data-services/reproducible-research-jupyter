{
 "cells": [
  {
   "cell_type": "markdown",
   "metadata": {
    "slideshow": {
     "slide_type": "slide"
    }
   },
   "source": [
    "# Getting Started with Jupyter Notebooks\n",
    "## Reproducible Research Workshop\n",
    "## [dataservices.library.jhu.edu](https://dataservices.library.jhu.edu/)\n",
    "### JHU Data Services: Marley Kalt\n",
    "### Date: February 15, 2022"
   ]
  },
  {
   "cell_type": "markdown",
   "metadata": {
    "slideshow": {
     "slide_type": "slide"
    }
   },
   "source": [
    "## If you have not already installed Anaconda, please do so now!    \n",
    "\n",
    "Get it here: [https://www.anaconda.com/products/individual](https://www.anaconda.com/products/individual)  \n",
    "Click \"Download\" or scroll down to \"Anaconda Installers\""
   ]
  },
  {
   "cell_type": "markdown",
   "metadata": {
    "slideshow": {
     "slide_type": "slide"
    }
   },
   "source": [
    "## This workshop will not be recorded  \n",
    "\n",
    "You will receive all workshop materials by tomorrow afternoon."
   ]
  },
  {
   "cell_type": "markdown",
   "metadata": {
    "slideshow": {
     "slide_type": "slide"
    }
   },
   "source": [
    "<center><img src='./Images/DataServicesAbout.png'></center>"
   ]
  },
  {
   "cell_type": "markdown",
   "metadata": {},
   "source": [
    "***"
   ]
  },
  {
   "cell_type": "markdown",
   "metadata": {
    "slideshow": {
     "slide_type": "slide"
    }
   },
   "source": [
    "## Today, you will learn:"
   ]
  },
  {
   "cell_type": "markdown",
   "metadata": {
    "slideshow": {
     "slide_type": "fragment"
    }
   },
   "source": [
    "- What interactive notebooks are, including Jupyter Notebooks"
   ]
  },
  {
   "cell_type": "markdown",
   "metadata": {
    "slideshow": {
     "slide_type": "fragment"
    }
   },
   "source": [
    "- How interactive notebooks are useful for reproducible research"
   ]
  },
  {
   "cell_type": "markdown",
   "metadata": {
    "slideshow": {
     "slide_type": "fragment"
    }
   },
   "source": [
    "- The basics of running code and writing markdown-formatted text in a Jupyter Notebook"
   ]
  },
  {
   "cell_type": "markdown",
   "metadata": {
    "slideshow": {
     "slide_type": "slide"
    }
   },
   "source": [
    "## You will not learn:"
   ]
  },
  {
   "cell_type": "markdown",
   "metadata": {
    "slideshow": {
     "slide_type": "fragment"
    }
   },
   "source": [
    "- How to write Python code or use specific Python libraries"
   ]
  },
  {
   "cell_type": "markdown",
   "metadata": {
    "slideshow": {
     "slide_type": "slide"
    }
   },
   "source": [
    "## Imagine you want to know how your colleague has cleaned their data."
   ]
  },
  {
   "cell_type": "markdown",
   "metadata": {
    "slideshow": {
     "slide_type": "fragment"
    }
   },
   "source": [
    "## Which will be easier to understand?   \n",
    "\n",
    "<table><tr>\n",
    "<td>A<img src=\"./Images/CodeExample1.png\" alt=\"Code sample in a text editor\" style=\"width: 460px;\"/> </td>\n",
    "<td>B<img src=\"./Images/NotebookExample1.png\" alt=\"Code sample in a Jupyter notebook\" style=\"width: 500px;\"/> </td>\n",
    "</tr></table>   \n",
    "\n",
    "Source: [Data Cleaning using Python with Pandas Library](https://nbviewer.jupyter.org/github/Tanu-N-Prabhu/Python/blob/master/Data_Cleaning/Data_Cleaning_using_Python_with_Pandas_Library.ipynb) by [Tanu Nanda Prabhu](https://github.com/Tanu-N-Prabhu/Python)   \n",
    "Retrieved from: [A Gallery of Interesting Jupyter Notebooks](https://github.com/jupyter/jupyter/wiki/A-gallery-of-interesting-Jupyter-Notebooks)"
   ]
  },
  {
   "cell_type": "markdown",
   "metadata": {
    "slideshow": {
     "slide_type": "skip"
    }
   },
   "source": [
    "***"
   ]
  },
  {
   "cell_type": "markdown",
   "metadata": {
    "slideshow": {
     "slide_type": "slide"
    }
   },
   "source": [
    "# Software"
   ]
  },
  {
   "cell_type": "markdown",
   "metadata": {
    "slideshow": {
     "slide_type": "subslide"
    }
   },
   "source": [
    "## Interactive Notebooks"
   ]
  },
  {
   "cell_type": "markdown",
   "metadata": {
    "slideshow": {
     "slide_type": "fragment"
    }
   },
   "source": [
    "- A graphical user interface (GUI) for writing code, text, visualizations, and more"
   ]
  },
  {
   "cell_type": "markdown",
   "metadata": {
    "slideshow": {
     "slide_type": "fragment"
    }
   },
   "source": [
    "- Designed to make it easier to read and write code"
   ]
  },
  {
   "cell_type": "markdown",
   "metadata": {
    "slideshow": {
     "slide_type": "fragment"
    }
   },
   "source": [
    "- Typically made of cells, or chunks of code/text, that can be run individually to explore step-by-step results"
   ]
  },
  {
   "cell_type": "markdown",
   "metadata": {
    "slideshow": {
     "slide_type": "fragment"
    }
   },
   "source": [
    "- Can be general purpose, or specific to a programming language or discipline"
   ]
  },
  {
   "cell_type": "markdown",
   "metadata": {
    "slideshow": {
     "slide_type": "fragment"
    }
   },
   "source": [
    "- [Overview of different notebooks](https://morphocode.com/interactive-notebooks-data-analysis-visualization/) from Morphocode"
   ]
  },
  {
   "cell_type": "markdown",
   "metadata": {
    "slideshow": {
     "slide_type": "subslide"
    }
   },
   "source": [
    "### Why use interactive notebooks?"
   ]
  },
  {
   "cell_type": "markdown",
   "metadata": {
    "slideshow": {
     "slide_type": "fragment"
    }
   },
   "source": [
    "- Developing and debugging code\n",
    "    - Enables users to test small chunks of code and examine output in real time"
   ]
  },
  {
   "cell_type": "markdown",
   "metadata": {
    "slideshow": {
     "slide_type": "fragment"
    }
   },
   "source": [
    "- Sharing code\n",
    "    - Keeps code and output in a single document\n",
    "    - Easier for a non-technical audience to read, run, and understand results\n",
    "    - Can export code, visualizations, and analysis in multiple formats, including PDF and HTML"
   ]
  },
  {
   "cell_type": "markdown",
   "metadata": {
    "slideshow": {
     "slide_type": "fragment"
    }
   },
   "source": [
    "- Explaining code\n",
    "    - Notebooks give space for a written explanation of your code and analysis\n",
    "    - Jupyter Notebooks use markdown for text\n",
    "        - Markdown: syntax for formatting plain text\n",
    "        - Learn more at [https://www.markdownguide.org/](https://www.markdownguide.org/)"
   ]
  },
  {
   "cell_type": "markdown",
   "metadata": {
    "slideshow": {
     "slide_type": "subslide"
    }
   },
   "source": [
    "![Logo for Project Jupyter](./Images/JupyterLogo.png) [jupyter.org](https://jupyter.org/)"
   ]
  },
  {
   "cell_type": "markdown",
   "metadata": {
    "slideshow": {
     "slide_type": "fragment"
    }
   },
   "source": [
    "__Project Jupyter__\n",
    "- Jupyter is an open source project for creating interactive and reproducible code"
   ]
  },
  {
   "cell_type": "markdown",
   "metadata": {
    "slideshow": {
     "slide_type": "fragment"
    }
   },
   "source": [
    "- Creator of Jupyter Notebooks, one of the most popular interactive notebooks for data analysis and visualization"
   ]
  },
  {
   "cell_type": "markdown",
   "metadata": {
    "slideshow": {
     "slide_type": "subslide"
    }
   },
   "source": [
    "![Logo for Project Jupyter](./Images/JupyterLogo.png)"
   ]
  },
  {
   "cell_type": "markdown",
   "metadata": {
    "slideshow": {
     "slide_type": "fragment"
    }
   },
   "source": [
    "__Jupyter Notebooks__   \n",
    "- Interactive notebooks for data analysis and visualization"
   ]
  },
  {
   "cell_type": "markdown",
   "metadata": {
    "slideshow": {
     "slide_type": "fragment"
    }
   },
   "source": [
    "- Editable user interface, runs in a web browser"
   ]
  },
  {
   "cell_type": "markdown",
   "metadata": {
    "slideshow": {
     "slide_type": "fragment"
    }
   },
   "source": [
    "- Kernels, software that executes the code\n",
    "    - Supports several programming languages (Python, R, Julia, and more)"
   ]
  },
  {
   "cell_type": "markdown",
   "metadata": {
    "slideshow": {
     "slide_type": "subslide"
    }
   },
   "source": [
    "__Screenshot of a Jupyter Notebook:__   \n",
    "\n",
    "![Screenshot](./Images/NotebookExample1.png)\n",
    "\n",
    "\n",
    "Source: [Data Cleaning using Python with Pandas Library](https://nbviewer.jupyter.org/github/Tanu-N-Prabhu/Python/blob/master/Data_Cleaning/Data_Cleaning_using_Python_with_Pandas_Library.ipynb) by [Tanu Nanda Prabhu](https://github.com/Tanu-N-Prabhu/Python)   \n",
    "Retrieved from: [A Gallery of Interesting Jupyter Notebooks](https://github.com/jupyter/jupyter/wiki/A-gallery-of-interesting-Jupyter-Notebooks)"
   ]
  },
  {
   "cell_type": "markdown",
   "metadata": {
    "slideshow": {
     "slide_type": "subslide"
    }
   },
   "source": [
    "![Logo for IPython Project](./Images/IPythonLogo.png)   \n",
    "[ipython.org](https://ipython.org/)"
   ]
  },
  {
   "cell_type": "markdown",
   "metadata": {
    "slideshow": {
     "slide_type": "fragment"
    }
   },
   "source": [
    "- A command line interface to use Python interactively"
   ]
  },
  {
   "cell_type": "markdown",
   "metadata": {
    "slideshow": {
     "slide_type": "fragment"
    }
   },
   "source": [
    "- A Jupyter kernel to write Python code within a Jupyter notebook"
   ]
  },
  {
   "cell_type": "markdown",
   "metadata": {
    "slideshow": {
     "slide_type": "fragment"
    }
   },
   "source": [
    "- .ipynb file extension\n",
    "    - File extension for Jupyter Notebooks (started with the IPython kernel)\n",
    "    - Stores notebooks in JSON format"
   ]
  },
  {
   "cell_type": "markdown",
   "metadata": {
    "slideshow": {
     "slide_type": "subslide"
    }
   },
   "source": [
    "__Screenshot of a Jupyter Notebook, in a text editor:__   \n",
    "\n",
    "![Screenshot of a Jupyter Notebook in a text editor](./Images/NotebookExampleTextEditor.png)\n",
    "\n",
    "Source: [Data Cleaning using Python with Pandas Library](https://nbviewer.jupyter.org/github/Tanu-N-Prabhu/Python/blob/master/Data_Cleaning/Data_Cleaning_using_Python_with_Pandas_Library.ipynb) by [Tanu Nanda Prabhu](https://github.com/Tanu-N-Prabhu/Python)   \n",
    "Retrieved from: [A Gallery of Interesting Jupyter Notebooks](https://github.com/jupyter/jupyter/wiki/A-gallery-of-interesting-Jupyter-Notebooks)"
   ]
  },
  {
   "cell_type": "markdown",
   "metadata": {
    "slideshow": {
     "slide_type": "subslide"
    }
   },
   "source": [
    "![Anaconda logo](./Images/AnacondaLogo.png) [anaconda.com](https://www.anaconda.com/)"
   ]
  },
  {
   "cell_type": "markdown",
   "metadata": {
    "slideshow": {
     "slide_type": "fragment"
    }
   },
   "source": [
    "- An open source distribution for scientific computing\n",
    "- Includes Python, Jupyter Notebooks, hundreds of additional libraries, a package and environment manager, and a graphical user interface (GUI)\n",
    "- Popular in the data science community"
   ]
  },
  {
   "cell_type": "markdown",
   "metadata": {
    "slideshow": {
     "slide_type": "skip"
    }
   },
   "source": [
    "***"
   ]
  },
  {
   "cell_type": "markdown",
   "metadata": {
    "slideshow": {
     "slide_type": "slide"
    }
   },
   "source": [
    "# Jupyter Notebooks + Reproducibility"
   ]
  },
  {
   "cell_type": "markdown",
   "metadata": {
    "slideshow": {
     "slide_type": "subslide"
    }
   },
   "source": [
    "Jupyter Notebooks are a tool to help create reproducible research"
   ]
  },
  {
   "cell_type": "markdown",
   "metadata": {
    "slideshow": {
     "slide_type": "fragment"
    }
   },
   "source": [
    "Code written in a notebook is not automatically reproducible"
   ]
  },
  {
   "cell_type": "markdown",
   "metadata": {
    "slideshow": {
     "slide_type": "subslide"
    }
   },
   "source": [
    "Reproducibility includes:\n",
    "- Availability of data"
   ]
  },
  {
   "cell_type": "markdown",
   "metadata": {
    "slideshow": {
     "slide_type": "fragment"
    }
   },
   "source": [
    "- Availability of software and libraries/packages"
   ]
  },
  {
   "cell_type": "markdown",
   "metadata": {
    "slideshow": {
     "slide_type": "fragment"
    }
   },
   "source": [
    "- Documentation of procedures, environments, and versions"
   ]
  },
  {
   "cell_type": "markdown",
   "metadata": {
    "slideshow": {
     "slide_type": "fragment"
    }
   },
   "source": [
    "- Persistent location"
   ]
  },
  {
   "cell_type": "markdown",
   "metadata": {
    "slideshow": {
     "slide_type": "subslide"
    }
   },
   "source": [
    "__Discussion: Is this notebook reproducible?__ \n",
    "\n",
    "![Screenshot of Jupyter Notebook, not very reproducible](./Images/ReproducibleExample2.png)\n",
    "\n",
    "Source: [Analysis and visualization of a public OKCupid profile dataset using python and pandas](https://nbviewer.jupyter.org/github/lalelale/profiles_analysis/blob/master/profiles.ipynb) by Alessandro Giusti   \n",
    "Retrieved from: [A Gallery of Interesting Jupyter Notebooks](https://github.com/jupyter/jupyter/wiki/A-gallery-of-interesting-Jupyter-Notebooks)"
   ]
  },
  {
   "cell_type": "markdown",
   "metadata": {
    "slideshow": {
     "slide_type": "subslide"
    }
   },
   "source": [
    "__Tips for creating reproducible notebooks:__"
   ]
  },
  {
   "cell_type": "markdown",
   "metadata": {
    "slideshow": {
     "slide_type": "fragment"
    }
   },
   "source": [
    "- Make use of markdown (section headings, narrative text)"
   ]
  },
  {
   "cell_type": "markdown",
   "metadata": {
    "slideshow": {
     "slide_type": "fragment"
    }
   },
   "source": [
    "- One step = one code cell"
   ]
  },
  {
   "cell_type": "markdown",
   "metadata": {
    "slideshow": {
     "slide_type": "fragment"
    }
   },
   "source": [
    "- Pay attention to dependencies, notebooks should run top to bottom"
   ]
  },
  {
   "cell_type": "markdown",
   "metadata": {
    "slideshow": {
     "slide_type": "fragment"
    }
   },
   "source": [
    "- Use descriptive variable names and document them"
   ]
  },
  {
   "cell_type": "markdown",
   "metadata": {
    "slideshow": {
     "slide_type": "fragment"
    }
   },
   "source": [
    "- Make data accessible, use relative file paths"
   ]
  },
  {
   "cell_type": "markdown",
   "metadata": {
    "slideshow": {
     "slide_type": "fragment"
    }
   },
   "source": [
    "- Clean up your notebook!"
   ]
  },
  {
   "cell_type": "markdown",
   "metadata": {
    "slideshow": {
     "slide_type": "subslide"
    }
   },
   "source": [
    "__Workflow for reproducible Jupyter Notebooks:__   \n",
    "\n",
    "<img src=\"./Images/ten_rules_workflow.png\" alt=\"Workflow for reproducible Jupyter Notebooks\" style=\"width: 800px;\"/>\n",
    "\n",
    "<br><br>\n",
    "Source: Rule A, Birmingham A, Zuniga C, Altintas I, Huang S-C, Knight R, et al. (2019) Ten simple rules for writing and sharing computational analyses in Jupyter Notebooks (Figure 1). PLoS Comput Biol 15(7): [e1007007](https://pubmed.ncbi.nlm.nih.gov/31344036/). \n",
    "https://doi.org/10.1371/journal.pcbi.1007007"
   ]
  },
  {
   "cell_type": "markdown",
   "metadata": {
    "slideshow": {
     "slide_type": "subslide"
    }
   },
   "source": [
    "__Discussion: Is this notebook reproducible?__ \n",
    "\n",
    "![Screenshot of Jupyter Notebook, more reproducible](./Images/ReproducibleExample1-1.png)  \n",
    "\n",
    "Source: [Analysis and visualization of a public OKCupid profile dataset using python and pandas](https://nbviewer.jupyter.org/github/lalelale/profiles_analysis/blob/master/profiles.ipynb) by Alessandro Giusti   \n",
    "Retrieved from: [A Gallery of Interesting Jupyter Notebooks](https://github.com/jupyter/jupyter/wiki/A-gallery-of-interesting-Jupyter-Notebooks)"
   ]
  },
  {
   "cell_type": "markdown",
   "metadata": {
    "slideshow": {
     "slide_type": "skip"
    }
   },
   "source": [
    "***"
   ]
  },
  {
   "cell_type": "markdown",
   "metadata": {
    "slideshow": {
     "slide_type": "slide"
    }
   },
   "source": [
    "# Jupyter Notebook Tutorial"
   ]
  },
  {
   "cell_type": "markdown",
   "metadata": {
    "slideshow": {
     "slide_type": "subslide"
    }
   },
   "source": [
    "### In this tutorial, we will:\n",
    "\n",
    "1. Learn how to create a new notebook and open an existing notebook\n",
    "2. Learn the basics of Jupyter Notebooks, including adding and removing cells, running cells, and switching between code and markdown"
   ]
  },
  {
   "cell_type": "markdown",
   "metadata": {
    "slideshow": {
     "slide_type": "fragment"
    }
   },
   "source": [
    "For screenshots, written instructions, and additional functions of Jupyter Notebooks, see our additional __JupyterNotebookTutorial.ipynb__ file.\n",
    "<br>\n",
    "[Download the tutorial from GitHub here](https://github.com/jhu-data-services/python-installation-instructions) (downloading will let you open the notebook in Anaconda and run cells interactively). \n",
    "<br>\n",
    "You can also [view the tutorial online here](https://github.com/jhu-data-services/python-installation-instructions/blob/main/jupyter-notebook-tutorial/JupyterNotebookTutorial.ipynb) (no download required, but will not run interactively)."
   ]
  },
  {
   "cell_type": "markdown",
   "metadata": {
    "slideshow": {
     "slide_type": "skip"
    }
   },
   "source": [
    "***"
   ]
  },
  {
   "cell_type": "markdown",
   "metadata": {
    "slideshow": {
     "slide_type": "slide"
    }
   },
   "source": [
    "# Resources"
   ]
  },
  {
   "cell_type": "markdown",
   "metadata": {
    "slideshow": {
     "slide_type": "subslide"
    }
   },
   "source": [
    "__General Resources__\n",
    "<br><br>\n",
    "[Project Jupyter](https://jupyter.org/) - organization behind Jupyter Notebooks   \n",
    "[Anaconda](https://www.anaconda.com/) - environment manager and GUI for launching Jupyter Notebooks  \n",
    "[RISE slideshow extension for Jupyter Notebooks](https://rise.readthedocs.io/en/stable/)   \n",
    "[Guide to interactive notebooks](https://morphocode.com/interactive-notebooks-data-analysis-visualization/)   \n",
    "[Basic Markdown syntax](https://www.markdownguide.org/basic-syntax) for formatting text elements   "
   ]
  },
  {
   "cell_type": "markdown",
   "metadata": {
    "slideshow": {
     "slide_type": "subslide"
    }
   },
   "source": [
    "__Tutorials and Examples__\n",
    "<br><br>\n",
    "[Real Python introduction to Jupyter Notebooks](https://realpython.com/jupyter-notebook-introduction/)   \n",
    "[Jupyter Notebooks documentation and tutorials](https://jupyter-notebook.readthedocs.io/en/stable/examples/Notebook/examples_index.html)   \n",
    "[Programming Historian: Introduction to Jupyter Notebooks](https://programminghistorian.org/en/lessons/jupyter-notebooks)   \n",
    "[Jupyter Notebooks gallery on GitHub](https://github.com/jupyter/jupyter/wiki)  \n",
    "[Towards Data Science](https://towardsdatascience.com/tagged/jupyter-notebook) - online publication, dozens of articles on Jupyter Notebooks and other data science topics for beginner to advanced levels "
   ]
  },
  {
   "cell_type": "markdown",
   "metadata": {
    "slideshow": {
     "slide_type": "subslide"
    }
   },
   "source": [
    "__Reproducibility__\n",
    "<br><br>\n",
    "[Ten simple rules for writing and sharing computational analyses in Jupyter Notebooks](https://doi.org/10.1371/journal.pcbi.1007007)   \n",
    "[Reproducibility guide for Jupyter Notebooks](https://github.com/jupyter-guide/jupyter-guide)  \n",
    "[Jupyter Notebooks and reproducible data science](https://markwoodbridge.com/2017/03/05/jupyter-reproducible-science.html)"
   ]
  },
  {
   "cell_type": "markdown",
   "metadata": {
    "slideshow": {
     "slide_type": "subslide"
    }
   },
   "source": [
    "__Conferences__\n",
    "<br><br>\n",
    "[JupyterCon](https://jupytercon.com/) - past talks [available on YouTube](https://www.youtube.com/playlist?list=PL055Epbe6d5b572IRmYAHkUgcq3y6K3Ae)    "
   ]
  },
  {
   "cell_type": "markdown",
   "metadata": {
    "slideshow": {
     "slide_type": "slide"
    }
   },
   "source": [
    "# Take our survey to help us improve this workshop:   \n",
    "# https://www.surveymonkey.com/r/ReproducibleResearch    \n"
   ]
  },
  {
   "cell_type": "markdown",
   "metadata": {
    "slideshow": {
     "slide_type": "slide"
    }
   },
   "source": [
    "# Workshop series schedule:   \n",
    "Tuesday 3/01, 11:00-12:30pm: Getting Started with R Markdown    \n",
    "Wednesday 3/30, 1:00-2:00pm: Introduction to Reproducible Research     \n",
    "Thursday 3/31, 11:00-12:30pm: Version Control: Using Git and GitHub  "
   ]
  },
  {
   "cell_type": "markdown",
   "metadata": {
    "slideshow": {
     "slide_type": "slide"
    }
   },
   "source": [
    "# Questions?   \n",
    "\n",
    "## Contact us at dataservices@jhu.edu"
   ]
  },
  {
   "cell_type": "markdown",
   "metadata": {
    "slideshow": {
     "slide_type": "slide"
    }
   },
   "source": [
    "### About this Presentation  \n",
    "This presentation was created using Jupyter Notebooks version 6.0.1 and the RISE notebook extension version 5.6.1.    \n",
    "\n",
    "### Terms of Use \n",
    "This material is licensed under a [Creative Commons Attribution-NonCommercial-ShareAlike 4.0 International License (CC BY-NC-SA 4.0)](https://creativecommons.org/licenses/by-nc-sa/4.0/), attributable to [Data Services](https://dataservices.library.jhu.edu/), Johns Hopkins University.  \n",
    "\n",
    "The images, external resources, and other referenced materials may have other licensing and terms of use.   \n",
    "\n",
    "Please cite this material as:\n",
    "\n",
    "> Johns Hopkins University Data Services. (2022, February 15). Reproducible research: Getting started with Jupyter Notebooks [workshop presentation]."
   ]
  }
 ],
 "metadata": {
  "kernelspec": {
   "display_name": "Python 3",
   "language": "python",
   "name": "python3"
  },
  "language_info": {
   "codemirror_mode": {
    "name": "ipython",
    "version": 3
   },
   "file_extension": ".py",
   "mimetype": "text/x-python",
   "name": "python",
   "nbconvert_exporter": "python",
   "pygments_lexer": "ipython3",
   "version": "3.7.4"
  }
 },
 "nbformat": 4,
 "nbformat_minor": 4
}
