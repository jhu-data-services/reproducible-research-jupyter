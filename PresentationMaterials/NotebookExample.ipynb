{
 "cells": [
  {
   "cell_type": "markdown",
   "metadata": {},
   "source": [
    "# Notebook example workflow: Candy Rankings"
   ]
  },
  {
   "cell_type": "markdown",
   "metadata": {},
   "source": [
    "For this example, we will use data from FiveThirtyEight's story [The Ultimate Halloween Candy Power Ranking](http://fivethirtyeight.com/features/the-ultimate-halloween-candy-power-ranking/).   \n",
    "\n",
    "We have provided the data file in `Data/candy-data.csv`. Data was downloaded from [FiveThirtyEight's GitHub repository](https://github.com/fivethirtyeight/data/tree/master/candy-power-ranking).   \n",
    "\n",
    "`candy-data.csv` includes attributes for each candy along with its ranking. For binary variables, 1 means yes, 0 means no.\n",
    "\n",
    "The data contains the following fields:\n",
    "\n",
    "Header | Description\n",
    "-------|------------\n",
    "chocolate | Does it contain chocolate?\n",
    "fruity | Is it fruit flavored?\n",
    "caramel | Is there caramel in the candy?\n",
    "peanutalmondy | Does it contain peanuts, peanut butter or almonds?\n",
    "nougat | Does it contain nougat?\n",
    "crispedricewafer | Does it contain crisped rice, wafers, or a cookie component?\n",
    "hard | Is it a hard candy?\n",
    "bar | Is it a candy bar?\n",
    "pluribus | Is it one of many candies in a bag or box?\n",
    "sugarpercent | The percentile of sugar it falls under within the data set.\n",
    "pricepercent | The unit price percentile compared to the rest of the set.\n",
    "winpercent | The overall win percentage according to 269,000 matchups.\n",
    "\n",
    "In the following example, we will import the candy rankings dataset, explore the dataset, and create a graph of the top 10 Halloween candies."
   ]
  },
  {
   "cell_type": "markdown",
   "metadata": {},
   "source": [
    "![halloween candy](./Images/halloween_candy.png)"
   ]
  },
  {
   "cell_type": "markdown",
   "metadata": {},
   "source": [
    "### Import packages and data"
   ]
  },
  {
   "cell_type": "code",
   "execution_count": null,
   "metadata": {},
   "outputs": [],
   "source": [
    "# import packages\n",
    "import pandas as pd\n",
    "import seaborn as sns\n",
    "from matplotlib import pyplot as plt\n",
    "%matplotlib inline"
   ]
  },
  {
   "cell_type": "code",
   "execution_count": null,
   "metadata": {},
   "outputs": [],
   "source": [
    "# import data files\n",
    "candy = pd.read_csv('Data/candy-data.csv')"
   ]
  },
  {
   "cell_type": "markdown",
   "metadata": {},
   "source": [
    "### Explore the data"
   ]
  },
  {
   "cell_type": "code",
   "execution_count": null,
   "metadata": {},
   "outputs": [],
   "source": [
    "candy.head()"
   ]
  },
  {
   "cell_type": "code",
   "execution_count": null,
   "metadata": {},
   "outputs": [],
   "source": [
    "candy.shape"
   ]
  },
  {
   "cell_type": "code",
   "execution_count": null,
   "metadata": {},
   "outputs": [],
   "source": [
    "candy.dtypes"
   ]
  },
  {
   "cell_type": "markdown",
   "metadata": {},
   "source": [
    "### Plot the top 10 Halloween candies"
   ]
  },
  {
   "cell_type": "code",
   "execution_count": null,
   "metadata": {},
   "outputs": [],
   "source": [
    "# sort data by winpercent\n",
    "candy_sorted = candy.sort_values('winpercent', ascending=False)\n",
    "candy_sorted.head(10)"
   ]
  },
  {
   "cell_type": "code",
   "execution_count": null,
   "metadata": {},
   "outputs": [],
   "source": [
    "# create halloween color palette\n",
    "colors = ['#000000', '#42253B', '#4C2C69', '#644B77', '#E26212', '#EE792F', '#ED7A1D', '#FD990D', '#EF931A', '#FACD63']\n",
    "palette = sns.set_palette(colors)"
   ]
  },
  {
   "cell_type": "code",
   "execution_count": null,
   "metadata": {},
   "outputs": [],
   "source": [
    "# plot win percent of top 10 candies\n",
    "# change plot size and style\n",
    "plt.figure(figsize=(20,10))\n",
    "sns.set_style('whitegrid')\n",
    "\n",
    "# plot data\n",
    "sns.barplot(x='competitorname', y='winpercent', data=candy_sorted[0:10])\n",
    "\n",
    "# change axis labels and set title\n",
    "plt.xlabel('Candy Name', size=20)\n",
    "plt.xticks(rotation=10, size=14)\n",
    "\n",
    "plt.ylabel('Win Percentage', size=20)\n",
    "plt.yticks(size=14)\n",
    "\n",
    "plt.title('Top Ten Halloween Candies', size=20)"
   ]
  }
 ],
 "metadata": {
  "kernelspec": {
   "display_name": "Python 3",
   "language": "python",
   "name": "python3"
  },
  "language_info": {
   "codemirror_mode": {
    "name": "ipython",
    "version": 3
   },
   "file_extension": ".py",
   "mimetype": "text/x-python",
   "name": "python",
   "nbconvert_exporter": "python",
   "pygments_lexer": "ipython3",
   "version": "3.7.4"
  }
 },
 "nbformat": 4,
 "nbformat_minor": 4
}
